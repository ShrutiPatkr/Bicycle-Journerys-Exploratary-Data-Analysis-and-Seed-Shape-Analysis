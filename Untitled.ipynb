{
 "cells": [
  {
   "cell_type": "code",
   "execution_count": 3,
   "id": "76dc99b1",
   "metadata": {},
   "outputs": [],
   "source": [
    "from nbformat import current\n",
    "\n",
    "def count_words_in_jupyter(filePath: str, returnType:str = 'markdown'):\n",
    "    with io.open(filePath, 'r', encoding='utf-8') as f:\n",
    "        nb = current.read(f, 'json')\n",
    "\n",
    "    word_count_markdown: int = 0\n",
    "    word_count_heading: int = 0\n",
    "    word_count_code: int = 0\n",
    "    for cell in nb.worksheets[0].cells:\n",
    "        if cell.cell_type == \"markdown\":\n",
    "            word_count_markdown += len(cell['source'].replace('#', '').lstrip().split(' '))\n",
    "        elif cell.cell_type == \"heading\":\n",
    "            word_count_heading += len(cell['source'].replace('#', '').lstrip().split(' '))\n",
    "        elif cell.cell_type == \"code\":\n",
    "            word_count_code += len(cell['input'].replace('#', '').lstrip().split(' '))\n",
    "\n",
    "    if returnType == 'markdown':\n",
    "        return word_count_markdown\n",
    "    elif returnType == 'heading':\n",
    "        return word_count_heading\n",
    "    elif returnType == 'code':\n",
    "        return word_count_code\n",
    "    else:\n",
    "        return Exception"
   ]
  },
  {
   "cell_type": "code",
   "execution_count": 9,
   "id": "375ef72a",
   "metadata": {},
   "outputs": [
    {
     "name": "stdout",
     "output_type": "stream",
     "text": [
      "0\n"
     ]
    }
   ],
   "source": [
    "topFolder: pathlib.Path = pathlib.Path(r'/Users/shrutipatkar/Desktop/MS/DSP/Coursework/Solution.ipynb')\n",
    "\n",
    "allJupyter: List  = []\n",
    "\n",
    "# Iterate through all files using pathlib\n",
    "for singleFile in topFolder.glob('**/20??/**/*.ipynb'):\n",
    "    if 'checkpoint' not in singleFile.name:\n",
    "        allJupyter.append(singleFile)\n",
    "\n",
    "print(len(allJupyter))"
   ]
  },
  {
   "cell_type": "code",
   "execution_count": 7,
   "id": "14bf41d7",
   "metadata": {},
   "outputs": [
    {
     "ename": "NameError",
     "evalue": "name '_name_' is not defined",
     "output_type": "error",
     "traceback": [
      "\u001b[0;31m---------------------------------------------------------------------------\u001b[0m",
      "\u001b[0;31mNameError\u001b[0m                                 Traceback (most recent call last)",
      "Cell \u001b[0;32mIn[7], line 35\u001b[0m\n\u001b[1;32m     31\u001b[0m     \u001b[38;5;28;01melse\u001b[39;00m:\n\u001b[1;32m     32\u001b[0m         \u001b[38;5;28;01mreturn\u001b[39;00m \u001b[38;5;167;01mException\u001b[39;00m\n\u001b[0;32m---> 35\u001b[0m \u001b[38;5;28;01mif\u001b[39;00m _name_ \u001b[38;5;241m==\u001b[39m \u001b[38;5;124m\"\u001b[39m\u001b[38;5;124m_main_\u001b[39m\u001b[38;5;124m\"\u001b[39m:\n\u001b[1;32m     37\u001b[0m     file \u001b[38;5;241m=\u001b[39m sys\u001b[38;5;241m.\u001b[39margv[\u001b[38;5;241m1\u001b[39m]\n\u001b[1;32m     39\u001b[0m     \u001b[38;5;28mprint\u001b[39m(\u001b[38;5;124m'\u001b[39m\u001b[38;5;124mWords counting toward coursework limit: \u001b[39m\u001b[38;5;132;01m{}\u001b[39;00m\u001b[38;5;124m'\u001b[39m\u001b[38;5;241m.\u001b[39mformat(count_words_in_jupyter(filePath\u001b[38;5;241m=\u001b[39m\u001b[38;5;124m'\u001b[39m\u001b[38;5;124mPython_notebook_metrocsv.ipynb\u001b[39m\u001b[38;5;124m'\u001b[39m, returnType\u001b[38;5;241m=\u001b[39m\u001b[38;5;124m\"\u001b[39m\u001b[38;5;124mmarkdown\u001b[39m\u001b[38;5;124m\"\u001b[39m)))\n",
      "\u001b[0;31mNameError\u001b[0m: name '_name_' is not defined"
     ]
    }
   ],
   "source": [
    "import io\n",
    "from typing import List\n",
    "from nbformat import current\n",
    "import sys\n",
    "\n",
    "\n",
    "def count_words_in_jupyter(filePath: 'Python_notebook_metrocsv.ipynb', returnType=str('markdown')):\n",
    "    with io.open(filePath, 'r', encoding='utf-8') as f:\n",
    "        nb = current.read(f, 'json')\n",
    "\n",
    "    word_count_markdown = 0\n",
    "    word_count_heading = 0\n",
    "    word_count_code = 0\n",
    "    for cell in nb.worksheets[0].cells:\n",
    "        if cell.cell_type == \"markdown\":\n",
    "            word_count_markdown += len(cell['source'].replace('#', '').lstrip().split(' '))\n",
    "        elif cell.cell_type == \"heading\":\n",
    "            word_count_heading += len(cell['source'].replace('#', '').lstrip().split(' '))\n",
    "        elif cell.cell_type == \"code\":\n",
    "            word_count_code += len(cell['input'].replace('#', '').lstrip().split(' '))\n",
    "\n",
    "    if returnType == 'markdown':\n",
    "        print('word_count_markdown={}'.format(word_count_markdown))\n",
    "        print('word_count_heading={}'.format(word_count_heading))\n",
    "        print('word_count_code={}\\n'.format(word_count_code))\n",
    "        return word_count_markdown\n",
    "    elif returnType == 'heading':\n",
    "        return word_count_heading\n",
    "    elif returnType == 'code':\n",
    "        return word_count_code\n",
    "    else:\n",
    "        return Exception\n",
    "\n",
    "\n",
    "if _name_ == \"_main_\":\n",
    "\n",
    "    file = sys.argv[1]\n",
    "\n",
    "    print('Words counting toward coursework limit: {}'.format(count_words_in_jupyter(filePath='Python_notebook_metrocsv.ipynb', returnType=\"markdown\")))"
   ]
  },
  {
   "cell_type": "code",
   "execution_count": 8,
   "id": "89d9e220",
   "metadata": {},
   "outputs": [],
   "source": [
    "import pathlib\n"
   ]
  },
  {
   "cell_type": "code",
   "execution_count": null,
   "id": "cbf48269",
   "metadata": {},
   "outputs": [],
   "source": []
  }
 ],
 "metadata": {
  "kernelspec": {
   "display_name": "Python 3 (ipykernel)",
   "language": "python",
   "name": "python3"
  },
  "language_info": {
   "codemirror_mode": {
    "name": "ipython",
    "version": 3
   },
   "file_extension": ".py",
   "mimetype": "text/x-python",
   "name": "python",
   "nbconvert_exporter": "python",
   "pygments_lexer": "ipython3",
   "version": "3.11.4"
  }
 },
 "nbformat": 4,
 "nbformat_minor": 5
}
